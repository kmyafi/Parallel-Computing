{
 "cells": [
  {
   "cell_type": "code",
   "execution_count": 1,
   "metadata": {
    "executionInfo": {
     "elapsed": 1737,
     "status": "ok",
     "timestamp": 1670587860287,
     "user": {
      "displayName": "Kamal Muftie Yafi",
      "userId": "11426837073681527476"
     },
     "user_tz": -420
    },
    "id": "zZ_pAzUctwoN"
   },
   "outputs": [],
   "source": [
    "from __future__ import division\n",
    "import os\n",
    "import sys\n",
    "import glob\n",
    "import matplotlib.pyplot as plt\n",
    "import numpy as np\n",
    "import pandas as pd\n",
    "%matplotlib inline\n",
    "%precision 4\n",
    "plt.style.use('ggplot')\n",
    "from numba import jit, typeof, int32, int64, float32, float64\n",
    "import random"
   ]
  },
  {
   "cell_type": "code",
   "execution_count": 2,
   "metadata": {
    "executionInfo": {
     "elapsed": 12,
     "status": "ok",
     "timestamp": 1670587860290,
     "user": {
      "displayName": "Kamal Muftie Yafi",
      "userId": "11426837073681527476"
     },
     "user_tz": -420
    },
    "id": "cuqJLkwquWfD"
   },
   "outputs": [],
   "source": [
    "def pi_python(n):\n",
    "    s = 0\n",
    "    for i in range(n):\n",
    "        x = random.uniform(-1, 1)\n",
    "        y = random.uniform(-1, 1)\n",
    "        if (x**2 + y**2) < 1:\n",
    "            s += 1\n",
    "    return s/n"
   ]
  },
  {
   "cell_type": "code",
   "execution_count": 3,
   "metadata": {
    "colab": {
     "base_uri": "https://localhost:8080/"
    },
    "executionInfo": {
     "elapsed": 2392,
     "status": "ok",
     "timestamp": 1670587862671,
     "user": {
      "displayName": "Kamal Muftie Yafi",
      "userId": "11426837073681527476"
     },
     "user_tz": -420
    },
    "id": "i7q7bXvXuY49",
    "outputId": "150eaf09-8b6c-430a-e1b4-88e65c19d050"
   },
   "outputs": [
    {
     "name": "stdout",
     "output_type": "stream",
     "text": [
      " "
     ]
    }
   ],
   "source": [
    "stats = %prun -r -q pi_python(1000000)"
   ]
  },
  {
   "cell_type": "code",
   "execution_count": 4,
   "metadata": {
    "colab": {
     "base_uri": "https://localhost:8080/"
    },
    "executionInfo": {
     "elapsed": 9,
     "status": "ok",
     "timestamp": 1670587862672,
     "user": {
      "displayName": "Kamal Muftie Yafi",
      "userId": "11426837073681527476"
     },
     "user_tz": -420
    },
    "id": "t_qSpStgucxD",
    "outputId": "d3a3ad4c-4f52-485d-9c39-225a1e4de6f1"
   },
   "outputs": [
    {
     "name": "stdout",
     "output_type": "stream",
     "text": [
      "         4000004 function calls in 4.711 seconds\n",
      "\n",
      "   Ordered by: internal time\n",
      "   List reduced from 6 to 5 due to restriction <5>\n",
      "\n",
      "   ncalls  tottime  percall  cumtime  percall filename:lineno(function)\n",
      "        1    2.589    2.589    4.711    4.711 983269015.py:1(pi_python)\n",
      "  2000000    1.681    0.000    2.121    0.000 random.py:511(uniform)\n",
      "  2000000    0.441    0.000    0.441    0.000 {method 'random' of '_random.Random' objects}\n",
      "        1    0.000    0.000    4.711    4.711 {built-in method builtins.exec}\n",
      "        1    0.000    0.000    4.711    4.711 <string>:1(<module>)\n",
      "\n",
      "\n"
     ]
    }
   ],
   "source": [
    "stats.sort_stats('time').print_stats(5);"
   ]
  },
  {
   "cell_type": "code",
   "execution_count": 5,
   "metadata": {
    "executionInfo": {
     "elapsed": 7,
     "status": "ok",
     "timestamp": 1670587862673,
     "user": {
      "displayName": "Kamal Muftie Yafi",
      "userId": "11426837073681527476"
     },
     "user_tz": -420
    },
    "id": "P6WMXZ-Kue3w"
   },
   "outputs": [],
   "source": [
    "def pi_numpy(n):\n",
    "    xs = np.random.uniform(-1, 1, (n,2))\n",
    "    return 4.0*((xs**2).sum(axis=1).sum() < 1)/n"
   ]
  },
  {
   "cell_type": "code",
   "execution_count": 6,
   "metadata": {
    "executionInfo": {
     "elapsed": 7,
     "status": "ok",
     "timestamp": 1670587862673,
     "user": {
      "displayName": "Kamal Muftie Yafi",
      "userId": "11426837073681527476"
     },
     "user_tz": -420
    },
    "id": "mJZOT6HJuhjU"
   },
   "outputs": [],
   "source": [
    "@jit\n",
    "def pi_numba(n):\n",
    "    s = 0\n",
    "    for i in range(n):\n",
    "        x = random.uniform(-1, 1)\n",
    "        y = random.uniform(-1, 1)\n",
    "        if x**2 + y**2 < 1:\n",
    "            s += 1\n",
    "    return s/n"
   ]
  },
  {
   "cell_type": "code",
   "execution_count": 7,
   "metadata": {
    "colab": {
     "base_uri": "https://localhost:8080/"
    },
    "executionInfo": {
     "elapsed": 15272,
     "status": "ok",
     "timestamp": 1670587877939,
     "user": {
      "displayName": "Kamal Muftie Yafi",
      "userId": "11426837073681527476"
     },
     "user_tz": -420
    },
    "id": "hRSj4e5guieu",
    "outputId": "ddf59975-5783-431d-88b7-913d8f7875cb"
   },
   "outputs": [
    {
     "name": "stdout",
     "output_type": "stream",
     "text": [
      "297 ms ± 52.7 ms per loop (mean ± std. dev. of 7 runs, 1 loop each)\n",
      "3.1 ms ± 98.1 µs per loop (mean ± std. dev. of 7 runs, 1 loop each)\n",
      "8.9 ms ± 321 µs per loop (mean ± std. dev. of 7 runs, 100 loops each)\n"
     ]
    }
   ],
   "source": [
    "n = int(1e5)\n",
    "%timeit pi_python(n)\n",
    "%timeit pi_numba(n)\n",
    "%timeit pi_numpy(n)"
   ]
  },
  {
   "cell_type": "code",
   "execution_count": 7,
   "metadata": {
    "executionInfo": {
     "elapsed": 14,
     "status": "ok",
     "timestamp": 1670587877941,
     "user": {
      "displayName": "Kamal Muftie Yafi",
      "userId": "11426837073681527476"
     },
     "user_tz": -420
    },
    "id": "pxZ5n5x2uksC"
   },
   "outputs": [],
   "source": []
  }
 ],
 "metadata": {
  "colab": {
   "provenance": []
  },
  "kernelspec": {
   "display_name": "Python 3 (ipykernel)",
   "language": "python",
   "name": "python3"
  },
  "language_info": {
   "codemirror_mode": {
    "name": "ipython",
    "version": 3
   },
   "file_extension": ".py",
   "mimetype": "text/x-python",
   "name": "python",
   "nbconvert_exporter": "python",
   "pygments_lexer": "ipython3",
   "version": "3.9.12"
  }
 },
 "nbformat": 4,
 "nbformat_minor": 1
}
